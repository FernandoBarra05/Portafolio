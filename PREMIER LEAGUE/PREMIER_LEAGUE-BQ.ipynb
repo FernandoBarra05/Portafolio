{
 "cells": [
  {
   "cell_type": "markdown",
   "metadata": {},
   "source": [
    "![linea 1](https://user-images.githubusercontent.com/19308295/115926252-2b8a0c00-a448-11eb-9d9c-b43beaf0ff68.png)"
   ]
  },
  {
   "cell_type": "markdown",
   "metadata": {},
   "source": [
    "<center> <h1>Análisis de Datos con PANDAS</h1> </center> "
   ]
  },
  {
   "cell_type": "markdown",
   "metadata": {},
   "source": [
    "![linea 1](https://user-images.githubusercontent.com/19308295/115926252-2b8a0c00-a448-11eb-9d9c-b43beaf0ff68.png)"
   ]
  },
  {
   "cell_type": "markdown",
   "metadata": {},
   "source": [
    "# Descripción:"
   ]
  },
  {
   "cell_type": "markdown",
   "metadata": {},
   "source": [
    "<div class=\"alert alert-info\">\n",
    "\n",
    "En este notebook se explicarán Análisis de Datos con la librería **Pandas**  en el lenguaje de programación Python. \n",
    "    \n",
    "</div>\n",
    "\n"
   ]
  },
  {
   "cell_type": "markdown",
   "metadata": {},
   "source": [
    "# Objetivos:\n",
    "\n",
    " 1. Importando archivos ***csv*** y manipulación inicial en **Pandas.**\n",
    " 2. Analisis con datos reales de Futbol"
   ]
  },
  {
   "cell_type": "markdown",
   "metadata": {},
   "source": [
    "\n",
    "[Análisis de Datos English Premier League (EPL)](#Análisis-de-Datos-English-Premier-League-(EPL)-2020-2021)<br>\n",
    "\n",
    "\n",
    "\n",
    "[BIBLIOGRAFÍA](#BIBLIOGRAFÍA)<br>"
   ]
  },
  {
   "cell_type": "markdown",
   "metadata": {},
   "source": [
    "![linea 1](https://user-images.githubusercontent.com/19308295/115926252-2b8a0c00-a448-11eb-9d9c-b43beaf0ff68.png)"
   ]
  },
  {
   "cell_type": "markdown",
   "metadata": {},
   "source": [
    "<center><img src=\"https://futbolete.com/apuestas/wp-content/uploads/2021/01/premier-league.png\" width=\"580 height=\"3800\"></center>"
   ]
  },
  {
   "cell_type": "markdown",
   "metadata": {},
   "source": [
    "![linea 2](https://user-images.githubusercontent.com/19308295/115926262-2fb62980-a448-11eb-8189-c2f10e499944.png)"
   ]
  },
  {
   "cell_type": "markdown",
   "metadata": {},
   "source": [
    "<div class=\"alert alert-info\"> La <strong>Premier League</strong>, también conocida en Inglaterra como The Premiership, es la máxima categoría del sistema de ligas de fútbol de Inglaterra. Comenzó a disputarse en la temporada 1992-93</div>"
   ]
  },
  {
   "cell_type": "markdown",
   "metadata": {},
   "source": [
    "<div class=\"alert alert-info\"> El análisis se realiza de la ultima temporada <strong>2020-2021</strong> de la <strong> Premier League</strong>\n",
    "\n",
    "La Colección de datos utilizada de la temporada <strong>2020-2021</strong> de la <strong> Premier League</strong>\n",
    "fueron descargados desde:\n",
    "\n",
    "</div>\n",
    "\n",
    "https://bit.ly/3aRnGVx"
   ]
  },
  {
   "cell_type": "markdown",
   "metadata": {},
   "source": [
    "![linea 2](https://user-images.githubusercontent.com/19308295/115926262-2fb62980-a448-11eb-8189-c2f10e499944.png)"
   ]
  },
  {
   "cell_type": "markdown",
   "metadata": {},
   "source": [
    "## <font color=#33A5FF>****Análisis de Datos English Premier League (EPL) 2020-2021****<tfont>"
   ]
  },
  {
   "cell_type": "code",
   "execution_count": 1,
   "metadata": {},
   "outputs": [],
   "source": [
    "import numpy as np\n",
    "import pandas as pd\n",
    "import matplotlib.pyplot as plt\n",
    "import seaborn as sns\n",
    "%matplotlib inline"
   ]
  },
  {
   "cell_type": "markdown",
   "metadata": {},
   "source": [
    "Cargamos los **datos** para luego ***limpiar nuestros datos***."
   ]
  },
  {
   "cell_type": "code",
   "execution_count": 3,
   "metadata": {},
   "outputs": [
    {
     "data": {
      "text/html": [
       "<div>\n",
       "<style scoped>\n",
       "    .dataframe tbody tr th:only-of-type {\n",
       "        vertical-align: middle;\n",
       "    }\n",
       "\n",
       "    .dataframe tbody tr th {\n",
       "        vertical-align: top;\n",
       "    }\n",
       "\n",
       "    .dataframe thead th {\n",
       "        text-align: right;\n",
       "    }\n",
       "</style>\n",
       "<table border=\"1\" class=\"dataframe\">\n",
       "  <thead>\n",
       "    <tr style=\"text-align: right;\">\n",
       "      <th></th>\n",
       "      <th>Name</th>\n",
       "      <th>Club</th>\n",
       "      <th>Nationality</th>\n",
       "      <th>Position</th>\n",
       "      <th>Age</th>\n",
       "      <th>Matches</th>\n",
       "      <th>Starts</th>\n",
       "      <th>Mins</th>\n",
       "      <th>Goals</th>\n",
       "      <th>Assists</th>\n",
       "      <th>Passes_Attempted</th>\n",
       "      <th>Perc_Passes_Completed</th>\n",
       "      <th>Penalty_Goals</th>\n",
       "      <th>Penalty_Attempted</th>\n",
       "      <th>xG</th>\n",
       "      <th>xA</th>\n",
       "      <th>Yellow_Cards</th>\n",
       "      <th>Red_Cards</th>\n",
       "    </tr>\n",
       "  </thead>\n",
       "  <tbody>\n",
       "    <tr>\n",
       "      <th>0</th>\n",
       "      <td>Mason Mount</td>\n",
       "      <td>Chelsea</td>\n",
       "      <td>ENG</td>\n",
       "      <td>MF,FW</td>\n",
       "      <td>21</td>\n",
       "      <td>36</td>\n",
       "      <td>32</td>\n",
       "      <td>2890</td>\n",
       "      <td>6</td>\n",
       "      <td>5</td>\n",
       "      <td>1881</td>\n",
       "      <td>82.3</td>\n",
       "      <td>1</td>\n",
       "      <td>1</td>\n",
       "      <td>0.21</td>\n",
       "      <td>0.24</td>\n",
       "      <td>2</td>\n",
       "      <td>0</td>\n",
       "    </tr>\n",
       "    <tr>\n",
       "      <th>1</th>\n",
       "      <td>Edouard Mendy</td>\n",
       "      <td>Chelsea</td>\n",
       "      <td>SEN</td>\n",
       "      <td>GK</td>\n",
       "      <td>28</td>\n",
       "      <td>31</td>\n",
       "      <td>31</td>\n",
       "      <td>2745</td>\n",
       "      <td>0</td>\n",
       "      <td>0</td>\n",
       "      <td>1007</td>\n",
       "      <td>84.6</td>\n",
       "      <td>0</td>\n",
       "      <td>0</td>\n",
       "      <td>0.00</td>\n",
       "      <td>0.00</td>\n",
       "      <td>2</td>\n",
       "      <td>0</td>\n",
       "    </tr>\n",
       "    <tr>\n",
       "      <th>2</th>\n",
       "      <td>Timo Werner</td>\n",
       "      <td>Chelsea</td>\n",
       "      <td>GER</td>\n",
       "      <td>FW</td>\n",
       "      <td>24</td>\n",
       "      <td>35</td>\n",
       "      <td>29</td>\n",
       "      <td>2602</td>\n",
       "      <td>6</td>\n",
       "      <td>8</td>\n",
       "      <td>826</td>\n",
       "      <td>77.2</td>\n",
       "      <td>0</td>\n",
       "      <td>0</td>\n",
       "      <td>0.41</td>\n",
       "      <td>0.21</td>\n",
       "      <td>2</td>\n",
       "      <td>0</td>\n",
       "    </tr>\n",
       "    <tr>\n",
       "      <th>3</th>\n",
       "      <td>Ben Chilwell</td>\n",
       "      <td>Chelsea</td>\n",
       "      <td>ENG</td>\n",
       "      <td>DF</td>\n",
       "      <td>23</td>\n",
       "      <td>27</td>\n",
       "      <td>27</td>\n",
       "      <td>2286</td>\n",
       "      <td>3</td>\n",
       "      <td>5</td>\n",
       "      <td>1806</td>\n",
       "      <td>78.6</td>\n",
       "      <td>0</td>\n",
       "      <td>0</td>\n",
       "      <td>0.10</td>\n",
       "      <td>0.11</td>\n",
       "      <td>3</td>\n",
       "      <td>0</td>\n",
       "    </tr>\n",
       "    <tr>\n",
       "      <th>4</th>\n",
       "      <td>Reece James</td>\n",
       "      <td>Chelsea</td>\n",
       "      <td>ENG</td>\n",
       "      <td>DF</td>\n",
       "      <td>20</td>\n",
       "      <td>32</td>\n",
       "      <td>25</td>\n",
       "      <td>2373</td>\n",
       "      <td>1</td>\n",
       "      <td>2</td>\n",
       "      <td>1987</td>\n",
       "      <td>85.0</td>\n",
       "      <td>0</td>\n",
       "      <td>0</td>\n",
       "      <td>0.06</td>\n",
       "      <td>0.12</td>\n",
       "      <td>3</td>\n",
       "      <td>0</td>\n",
       "    </tr>\n",
       "  </tbody>\n",
       "</table>\n",
       "</div>"
      ],
      "text/plain": [
       "            Name     Club Nationality Position  Age  Matches  Starts  Mins  \\\n",
       "0    Mason Mount  Chelsea         ENG    MF,FW   21       36      32  2890   \n",
       "1  Edouard Mendy  Chelsea         SEN       GK   28       31      31  2745   \n",
       "2    Timo Werner  Chelsea         GER       FW   24       35      29  2602   \n",
       "3   Ben Chilwell  Chelsea         ENG       DF   23       27      27  2286   \n",
       "4    Reece James  Chelsea         ENG       DF   20       32      25  2373   \n",
       "\n",
       "   Goals  Assists  Passes_Attempted  Perc_Passes_Completed  Penalty_Goals  \\\n",
       "0      6        5              1881                   82.3              1   \n",
       "1      0        0              1007                   84.6              0   \n",
       "2      6        8               826                   77.2              0   \n",
       "3      3        5              1806                   78.6              0   \n",
       "4      1        2              1987                   85.0              0   \n",
       "\n",
       "   Penalty_Attempted    xG    xA  Yellow_Cards  Red_Cards  \n",
       "0                  1  0.21  0.24             2          0  \n",
       "1                  0  0.00  0.00             2          0  \n",
       "2                  0  0.41  0.21             2          0  \n",
       "3                  0  0.10  0.11             3          0  \n",
       "4                  0  0.06  0.12             3          0  "
      ]
     },
     "execution_count": 3,
     "metadata": {},
     "output_type": "execute_result"
    }
   ],
   "source": [
    "dataF = pd.read_csv('EPL_20_21.csv')\n",
    "dataF.head()"
   ]
  },
  {
   "cell_type": "code",
   "execution_count": 4,
   "metadata": {},
   "outputs": [
    {
     "data": {
      "text/plain": [
       "(532, 18)"
      ]
     },
     "execution_count": 4,
     "metadata": {},
     "output_type": "execute_result"
    }
   ],
   "source": [
    "dataF.shape"
   ]
  },
  {
   "cell_type": "code",
   "execution_count": 5,
   "metadata": {},
   "outputs": [
    {
     "data": {
      "text/plain": [
       "532"
      ]
     },
     "execution_count": 5,
     "metadata": {},
     "output_type": "execute_result"
    }
   ],
   "source": [
    "len(dataF)"
   ]
  },
  {
   "cell_type": "code",
   "execution_count": 8,
   "metadata": {},
   "outputs": [
    {
     "data": {
      "text/plain": [
       "532"
      ]
     },
     "execution_count": 8,
     "metadata": {},
     "output_type": "execute_result"
    }
   ],
   "source": [
    "dataF.shape[0]"
   ]
  },
  {
   "cell_type": "code",
   "execution_count": 9,
   "metadata": {},
   "outputs": [
    {
     "data": {
      "text/html": [
       "<div>\n",
       "<style scoped>\n",
       "    .dataframe tbody tr th:only-of-type {\n",
       "        vertical-align: middle;\n",
       "    }\n",
       "\n",
       "    .dataframe tbody tr th {\n",
       "        vertical-align: top;\n",
       "    }\n",
       "\n",
       "    .dataframe thead th {\n",
       "        text-align: right;\n",
       "    }\n",
       "</style>\n",
       "<table border=\"1\" class=\"dataframe\">\n",
       "  <thead>\n",
       "    <tr style=\"text-align: right;\">\n",
       "      <th></th>\n",
       "      <th>Name</th>\n",
       "      <th>Club</th>\n",
       "      <th>Nationality</th>\n",
       "      <th>Position</th>\n",
       "      <th>Age</th>\n",
       "      <th>Matches</th>\n",
       "      <th>Starts</th>\n",
       "      <th>Mins</th>\n",
       "      <th>Goals</th>\n",
       "      <th>Assists</th>\n",
       "      <th>Passes_Attempted</th>\n",
       "      <th>Perc_Passes_Completed</th>\n",
       "      <th>Penalty_Goals</th>\n",
       "      <th>Penalty_Attempted</th>\n",
       "      <th>xG</th>\n",
       "      <th>xA</th>\n",
       "      <th>Yellow_Cards</th>\n",
       "      <th>Red_Cards</th>\n",
       "    </tr>\n",
       "  </thead>\n",
       "  <tbody>\n",
       "    <tr>\n",
       "      <th>104</th>\n",
       "      <td>Alex Oxlade-Chamberlain</td>\n",
       "      <td>Liverpool FC</td>\n",
       "      <td>ENG</td>\n",
       "      <td>FW,MF</td>\n",
       "      <td>26</td>\n",
       "      <td>13</td>\n",
       "      <td>2</td>\n",
       "      <td>253</td>\n",
       "      <td>1</td>\n",
       "      <td>1</td>\n",
       "      <td>138</td>\n",
       "      <td>75.4</td>\n",
       "      <td>0</td>\n",
       "      <td>0</td>\n",
       "      <td>0.13</td>\n",
       "      <td>0.08</td>\n",
       "      <td>0</td>\n",
       "      <td>0</td>\n",
       "    </tr>\n",
       "  </tbody>\n",
       "</table>\n",
       "</div>"
      ],
      "text/plain": [
       "                        Name          Club Nationality Position  Age  Matches  \\\n",
       "104  Alex Oxlade-Chamberlain  Liverpool FC         ENG    FW,MF   26       13   \n",
       "\n",
       "     Starts  Mins  Goals  Assists  Passes_Attempted  Perc_Passes_Completed  \\\n",
       "104       2   253      1        1               138                   75.4   \n",
       "\n",
       "     Penalty_Goals  Penalty_Attempted    xG    xA  Yellow_Cards  Red_Cards  \n",
       "104              0                  0  0.13  0.08             0          0  "
      ]
     },
     "execution_count": 9,
     "metadata": {},
     "output_type": "execute_result"
    }
   ],
   "source": [
    "dataF.sample()"
   ]
  },
  {
   "cell_type": "code",
   "execution_count": 10,
   "metadata": {},
   "outputs": [
    {
     "name": "stdout",
     "output_type": "stream",
     "text": [
      "<class 'pandas.core.frame.DataFrame'>\n",
      "RangeIndex: 532 entries, 0 to 531\n",
      "Data columns (total 18 columns):\n",
      " #   Column                 Non-Null Count  Dtype  \n",
      "---  ------                 --------------  -----  \n",
      " 0   Name                   532 non-null    object \n",
      " 1   Club                   532 non-null    object \n",
      " 2   Nationality            532 non-null    object \n",
      " 3   Position               532 non-null    object \n",
      " 4   Age                    532 non-null    int64  \n",
      " 5   Matches                532 non-null    int64  \n",
      " 6   Starts                 532 non-null    int64  \n",
      " 7   Mins                   532 non-null    int64  \n",
      " 8   Goals                  532 non-null    int64  \n",
      " 9   Assists                532 non-null    int64  \n",
      " 10  Passes_Attempted       532 non-null    int64  \n",
      " 11  Perc_Passes_Completed  532 non-null    float64\n",
      " 12  Penalty_Goals          532 non-null    int64  \n",
      " 13  Penalty_Attempted      532 non-null    int64  \n",
      " 14  xG                     532 non-null    float64\n",
      " 15  xA                     532 non-null    float64\n",
      " 16  Yellow_Cards           532 non-null    int64  \n",
      " 17  Red_Cards              532 non-null    int64  \n",
      "dtypes: float64(3), int64(11), object(4)\n",
      "memory usage: 74.9+ KB\n"
     ]
    }
   ],
   "source": [
    "dataF.info()"
   ]
  },
  {
   "cell_type": "code",
   "execution_count": 11,
   "metadata": {},
   "outputs": [
    {
     "data": {
      "text/html": [
       "<div>\n",
       "<style scoped>\n",
       "    .dataframe tbody tr th:only-of-type {\n",
       "        vertical-align: middle;\n",
       "    }\n",
       "\n",
       "    .dataframe tbody tr th {\n",
       "        vertical-align: top;\n",
       "    }\n",
       "\n",
       "    .dataframe thead th {\n",
       "        text-align: right;\n",
       "    }\n",
       "</style>\n",
       "<table border=\"1\" class=\"dataframe\">\n",
       "  <thead>\n",
       "    <tr style=\"text-align: right;\">\n",
       "      <th></th>\n",
       "      <th>count</th>\n",
       "      <th>mean</th>\n",
       "      <th>std</th>\n",
       "      <th>min</th>\n",
       "      <th>25%</th>\n",
       "      <th>50%</th>\n",
       "      <th>75%</th>\n",
       "      <th>max</th>\n",
       "    </tr>\n",
       "  </thead>\n",
       "  <tbody>\n",
       "    <tr>\n",
       "      <th>Age</th>\n",
       "      <td>532.0</td>\n",
       "      <td>25.500000</td>\n",
       "      <td>4.319404</td>\n",
       "      <td>16.0</td>\n",
       "      <td>22.00</td>\n",
       "      <td>26.00</td>\n",
       "      <td>29.000</td>\n",
       "      <td>38.00</td>\n",
       "    </tr>\n",
       "    <tr>\n",
       "      <th>Matches</th>\n",
       "      <td>532.0</td>\n",
       "      <td>19.535714</td>\n",
       "      <td>11.840459</td>\n",
       "      <td>1.0</td>\n",
       "      <td>9.00</td>\n",
       "      <td>21.00</td>\n",
       "      <td>30.000</td>\n",
       "      <td>38.00</td>\n",
       "    </tr>\n",
       "    <tr>\n",
       "      <th>Starts</th>\n",
       "      <td>532.0</td>\n",
       "      <td>15.714286</td>\n",
       "      <td>11.921161</td>\n",
       "      <td>0.0</td>\n",
       "      <td>4.00</td>\n",
       "      <td>15.00</td>\n",
       "      <td>27.000</td>\n",
       "      <td>38.00</td>\n",
       "    </tr>\n",
       "    <tr>\n",
       "      <th>Mins</th>\n",
       "      <td>532.0</td>\n",
       "      <td>1411.443609</td>\n",
       "      <td>1043.171856</td>\n",
       "      <td>1.0</td>\n",
       "      <td>426.00</td>\n",
       "      <td>1345.00</td>\n",
       "      <td>2303.500</td>\n",
       "      <td>3420.00</td>\n",
       "    </tr>\n",
       "    <tr>\n",
       "      <th>Goals</th>\n",
       "      <td>532.0</td>\n",
       "      <td>1.853383</td>\n",
       "      <td>3.338009</td>\n",
       "      <td>0.0</td>\n",
       "      <td>0.00</td>\n",
       "      <td>1.00</td>\n",
       "      <td>2.000</td>\n",
       "      <td>23.00</td>\n",
       "    </tr>\n",
       "    <tr>\n",
       "      <th>Assists</th>\n",
       "      <td>532.0</td>\n",
       "      <td>1.287594</td>\n",
       "      <td>2.095191</td>\n",
       "      <td>0.0</td>\n",
       "      <td>0.00</td>\n",
       "      <td>0.00</td>\n",
       "      <td>2.000</td>\n",
       "      <td>14.00</td>\n",
       "    </tr>\n",
       "    <tr>\n",
       "      <th>Passes_Attempted</th>\n",
       "      <td>532.0</td>\n",
       "      <td>717.750000</td>\n",
       "      <td>631.372522</td>\n",
       "      <td>0.0</td>\n",
       "      <td>171.50</td>\n",
       "      <td>573.50</td>\n",
       "      <td>1129.500</td>\n",
       "      <td>3214.00</td>\n",
       "    </tr>\n",
       "    <tr>\n",
       "      <th>Perc_Passes_Completed</th>\n",
       "      <td>532.0</td>\n",
       "      <td>77.823872</td>\n",
       "      <td>13.011631</td>\n",
       "      <td>-1.0</td>\n",
       "      <td>73.50</td>\n",
       "      <td>79.20</td>\n",
       "      <td>84.625</td>\n",
       "      <td>100.00</td>\n",
       "    </tr>\n",
       "    <tr>\n",
       "      <th>Penalty_Goals</th>\n",
       "      <td>532.0</td>\n",
       "      <td>0.191729</td>\n",
       "      <td>0.850881</td>\n",
       "      <td>0.0</td>\n",
       "      <td>0.00</td>\n",
       "      <td>0.00</td>\n",
       "      <td>0.000</td>\n",
       "      <td>9.00</td>\n",
       "    </tr>\n",
       "    <tr>\n",
       "      <th>Penalty_Attempted</th>\n",
       "      <td>532.0</td>\n",
       "      <td>0.234962</td>\n",
       "      <td>0.975818</td>\n",
       "      <td>0.0</td>\n",
       "      <td>0.00</td>\n",
       "      <td>0.00</td>\n",
       "      <td>0.000</td>\n",
       "      <td>10.00</td>\n",
       "    </tr>\n",
       "    <tr>\n",
       "      <th>xG</th>\n",
       "      <td>532.0</td>\n",
       "      <td>0.113289</td>\n",
       "      <td>0.148174</td>\n",
       "      <td>0.0</td>\n",
       "      <td>0.01</td>\n",
       "      <td>0.06</td>\n",
       "      <td>0.150</td>\n",
       "      <td>1.16</td>\n",
       "    </tr>\n",
       "    <tr>\n",
       "      <th>xA</th>\n",
       "      <td>532.0</td>\n",
       "      <td>0.072650</td>\n",
       "      <td>0.090072</td>\n",
       "      <td>0.0</td>\n",
       "      <td>0.00</td>\n",
       "      <td>0.05</td>\n",
       "      <td>0.110</td>\n",
       "      <td>0.90</td>\n",
       "    </tr>\n",
       "    <tr>\n",
       "      <th>Yellow_Cards</th>\n",
       "      <td>532.0</td>\n",
       "      <td>2.114662</td>\n",
       "      <td>2.269094</td>\n",
       "      <td>0.0</td>\n",
       "      <td>0.00</td>\n",
       "      <td>2.00</td>\n",
       "      <td>3.000</td>\n",
       "      <td>12.00</td>\n",
       "    </tr>\n",
       "    <tr>\n",
       "      <th>Red_Cards</th>\n",
       "      <td>532.0</td>\n",
       "      <td>0.090226</td>\n",
       "      <td>0.293268</td>\n",
       "      <td>0.0</td>\n",
       "      <td>0.00</td>\n",
       "      <td>0.00</td>\n",
       "      <td>0.000</td>\n",
       "      <td>2.00</td>\n",
       "    </tr>\n",
       "  </tbody>\n",
       "</table>\n",
       "</div>"
      ],
      "text/plain": [
       "                       count         mean          std   min     25%      50%  \\\n",
       "Age                    532.0    25.500000     4.319404  16.0   22.00    26.00   \n",
       "Matches                532.0    19.535714    11.840459   1.0    9.00    21.00   \n",
       "Starts                 532.0    15.714286    11.921161   0.0    4.00    15.00   \n",
       "Mins                   532.0  1411.443609  1043.171856   1.0  426.00  1345.00   \n",
       "Goals                  532.0     1.853383     3.338009   0.0    0.00     1.00   \n",
       "Assists                532.0     1.287594     2.095191   0.0    0.00     0.00   \n",
       "Passes_Attempted       532.0   717.750000   631.372522   0.0  171.50   573.50   \n",
       "Perc_Passes_Completed  532.0    77.823872    13.011631  -1.0   73.50    79.20   \n",
       "Penalty_Goals          532.0     0.191729     0.850881   0.0    0.00     0.00   \n",
       "Penalty_Attempted      532.0     0.234962     0.975818   0.0    0.00     0.00   \n",
       "xG                     532.0     0.113289     0.148174   0.0    0.01     0.06   \n",
       "xA                     532.0     0.072650     0.090072   0.0    0.00     0.05   \n",
       "Yellow_Cards           532.0     2.114662     2.269094   0.0    0.00     2.00   \n",
       "Red_Cards              532.0     0.090226     0.293268   0.0    0.00     0.00   \n",
       "\n",
       "                            75%      max  \n",
       "Age                      29.000    38.00  \n",
       "Matches                  30.000    38.00  \n",
       "Starts                   27.000    38.00  \n",
       "Mins                   2303.500  3420.00  \n",
       "Goals                     2.000    23.00  \n",
       "Assists                   2.000    14.00  \n",
       "Passes_Attempted       1129.500  3214.00  \n",
       "Perc_Passes_Completed    84.625   100.00  \n",
       "Penalty_Goals             0.000     9.00  \n",
       "Penalty_Attempted         0.000    10.00  \n",
       "xG                        0.150     1.16  \n",
       "xA                        0.110     0.90  \n",
       "Yellow_Cards              3.000    12.00  \n",
       "Red_Cards                 0.000     2.00  "
      ]
     },
     "execution_count": 11,
     "metadata": {},
     "output_type": "execute_result"
    }
   ],
   "source": [
    "dataF.describe().T "
   ]
  },
  {
   "cell_type": "code",
   "execution_count": 13,
   "metadata": {},
   "outputs": [
    {
     "data": {
      "text/plain": [
       "Name                     0\n",
       "Club                     0\n",
       "Nationality              0\n",
       "Position                 0\n",
       "Age                      0\n",
       "Matches                  0\n",
       "Starts                   0\n",
       "Mins                     0\n",
       "Goals                    0\n",
       "Assists                  0\n",
       "Passes_Attempted         0\n",
       "Perc_Passes_Completed    0\n",
       "Penalty_Goals            0\n",
       "Penalty_Attempted        0\n",
       "xG                       0\n",
       "xA                       0\n",
       "Yellow_Cards             0\n",
       "Red_Cards                0\n",
       "dtype: int64"
      ]
     },
     "execution_count": 13,
     "metadata": {},
     "output_type": "execute_result"
    }
   ],
   "source": [
    "dataF.isna().sum()"
   ]
  },
  {
   "cell_type": "markdown",
   "metadata": {},
   "source": [
    "Creamos 2 columnas mas **Minutos por partido** y ***Goles por partido***."
   ]
  },
  {
   "cell_type": "code",
   "execution_count": 14,
   "metadata": {},
   "outputs": [
    {
     "data": {
      "text/plain": [
       "Index(['Name', 'Club', 'Nationality', 'Position', 'Age', 'Matches', 'Starts',\n",
       "       'Mins', 'Goals', 'Assists', 'Passes_Attempted', 'Perc_Passes_Completed',\n",
       "       'Penalty_Goals', 'Penalty_Attempted', 'xG', 'xA', 'Yellow_Cards',\n",
       "       'Red_Cards'],\n",
       "      dtype='object')"
      ]
     },
     "execution_count": 14,
     "metadata": {},
     "output_type": "execute_result"
    }
   ],
   "source": [
    "dataF.columns"
   ]
  },
  {
   "cell_type": "code",
   "execution_count": 15,
   "metadata": {},
   "outputs": [
    {
     "name": "stderr",
     "output_type": "stream",
     "text": [
      "<ipython-input-15-cf977531eddb>:1: UserWarning: Pandas doesn't allow columns to be created via a new attribute name - see https://pandas.pydata.org/pandas-docs/stable/indexing.html#attribute-access\n",
      "  dataF.MinsPerMatch = (dataF['Mins'] / dataF['Matches']).astype(int)\n",
      "<ipython-input-15-cf977531eddb>:2: UserWarning: Pandas doesn't allow columns to be created via a new attribute name - see https://pandas.pydata.org/pandas-docs/stable/indexing.html#attribute-access\n",
      "  dataF.GoalsPerMatch = (dataF['Goals'] / dataF['Matches']).astype(float)\n"
     ]
    }
   ],
   "source": [
    "dataF.MinsPerMatch = (dataF['Mins'] / dataF['Matches']).astype(int)\n",
    "dataF.GoalsPerMatch = (dataF['Goals'] / dataF['Matches']).astype(float)"
   ]
  },
  {
   "cell_type": "code",
   "execution_count": 16,
   "metadata": {},
   "outputs": [
    {
     "data": {
      "text/html": [
       "<div>\n",
       "<style scoped>\n",
       "    .dataframe tbody tr th:only-of-type {\n",
       "        vertical-align: middle;\n",
       "    }\n",
       "\n",
       "    .dataframe tbody tr th {\n",
       "        vertical-align: top;\n",
       "    }\n",
       "\n",
       "    .dataframe thead th {\n",
       "        text-align: right;\n",
       "    }\n",
       "</style>\n",
       "<table border=\"1\" class=\"dataframe\">\n",
       "  <thead>\n",
       "    <tr style=\"text-align: right;\">\n",
       "      <th></th>\n",
       "      <th>Name</th>\n",
       "      <th>Club</th>\n",
       "      <th>Nationality</th>\n",
       "      <th>Position</th>\n",
       "      <th>Age</th>\n",
       "      <th>Matches</th>\n",
       "      <th>Starts</th>\n",
       "      <th>Mins</th>\n",
       "      <th>Goals</th>\n",
       "      <th>Assists</th>\n",
       "      <th>Passes_Attempted</th>\n",
       "      <th>Perc_Passes_Completed</th>\n",
       "      <th>Penalty_Goals</th>\n",
       "      <th>Penalty_Attempted</th>\n",
       "      <th>xG</th>\n",
       "      <th>xA</th>\n",
       "      <th>Yellow_Cards</th>\n",
       "      <th>Red_Cards</th>\n",
       "    </tr>\n",
       "  </thead>\n",
       "  <tbody>\n",
       "    <tr>\n",
       "      <th>0</th>\n",
       "      <td>Mason Mount</td>\n",
       "      <td>Chelsea</td>\n",
       "      <td>ENG</td>\n",
       "      <td>MF,FW</td>\n",
       "      <td>21</td>\n",
       "      <td>36</td>\n",
       "      <td>32</td>\n",
       "      <td>2890</td>\n",
       "      <td>6</td>\n",
       "      <td>5</td>\n",
       "      <td>1881</td>\n",
       "      <td>82.3</td>\n",
       "      <td>1</td>\n",
       "      <td>1</td>\n",
       "      <td>0.21</td>\n",
       "      <td>0.24</td>\n",
       "      <td>2</td>\n",
       "      <td>0</td>\n",
       "    </tr>\n",
       "    <tr>\n",
       "      <th>1</th>\n",
       "      <td>Edouard Mendy</td>\n",
       "      <td>Chelsea</td>\n",
       "      <td>SEN</td>\n",
       "      <td>GK</td>\n",
       "      <td>28</td>\n",
       "      <td>31</td>\n",
       "      <td>31</td>\n",
       "      <td>2745</td>\n",
       "      <td>0</td>\n",
       "      <td>0</td>\n",
       "      <td>1007</td>\n",
       "      <td>84.6</td>\n",
       "      <td>0</td>\n",
       "      <td>0</td>\n",
       "      <td>0.00</td>\n",
       "      <td>0.00</td>\n",
       "      <td>2</td>\n",
       "      <td>0</td>\n",
       "    </tr>\n",
       "    <tr>\n",
       "      <th>2</th>\n",
       "      <td>Timo Werner</td>\n",
       "      <td>Chelsea</td>\n",
       "      <td>GER</td>\n",
       "      <td>FW</td>\n",
       "      <td>24</td>\n",
       "      <td>35</td>\n",
       "      <td>29</td>\n",
       "      <td>2602</td>\n",
       "      <td>6</td>\n",
       "      <td>8</td>\n",
       "      <td>826</td>\n",
       "      <td>77.2</td>\n",
       "      <td>0</td>\n",
       "      <td>0</td>\n",
       "      <td>0.41</td>\n",
       "      <td>0.21</td>\n",
       "      <td>2</td>\n",
       "      <td>0</td>\n",
       "    </tr>\n",
       "    <tr>\n",
       "      <th>3</th>\n",
       "      <td>Ben Chilwell</td>\n",
       "      <td>Chelsea</td>\n",
       "      <td>ENG</td>\n",
       "      <td>DF</td>\n",
       "      <td>23</td>\n",
       "      <td>27</td>\n",
       "      <td>27</td>\n",
       "      <td>2286</td>\n",
       "      <td>3</td>\n",
       "      <td>5</td>\n",
       "      <td>1806</td>\n",
       "      <td>78.6</td>\n",
       "      <td>0</td>\n",
       "      <td>0</td>\n",
       "      <td>0.10</td>\n",
       "      <td>0.11</td>\n",
       "      <td>3</td>\n",
       "      <td>0</td>\n",
       "    </tr>\n",
       "    <tr>\n",
       "      <th>4</th>\n",
       "      <td>Reece James</td>\n",
       "      <td>Chelsea</td>\n",
       "      <td>ENG</td>\n",
       "      <td>DF</td>\n",
       "      <td>20</td>\n",
       "      <td>32</td>\n",
       "      <td>25</td>\n",
       "      <td>2373</td>\n",
       "      <td>1</td>\n",
       "      <td>2</td>\n",
       "      <td>1987</td>\n",
       "      <td>85.0</td>\n",
       "      <td>0</td>\n",
       "      <td>0</td>\n",
       "      <td>0.06</td>\n",
       "      <td>0.12</td>\n",
       "      <td>3</td>\n",
       "      <td>0</td>\n",
       "    </tr>\n",
       "  </tbody>\n",
       "</table>\n",
       "</div>"
      ],
      "text/plain": [
       "            Name     Club Nationality Position  Age  Matches  Starts  Mins  \\\n",
       "0    Mason Mount  Chelsea         ENG    MF,FW   21       36      32  2890   \n",
       "1  Edouard Mendy  Chelsea         SEN       GK   28       31      31  2745   \n",
       "2    Timo Werner  Chelsea         GER       FW   24       35      29  2602   \n",
       "3   Ben Chilwell  Chelsea         ENG       DF   23       27      27  2286   \n",
       "4    Reece James  Chelsea         ENG       DF   20       32      25  2373   \n",
       "\n",
       "   Goals  Assists  Passes_Attempted  Perc_Passes_Completed  Penalty_Goals  \\\n",
       "0      6        5              1881                   82.3              1   \n",
       "1      0        0              1007                   84.6              0   \n",
       "2      6        8               826                   77.2              0   \n",
       "3      3        5              1806                   78.6              0   \n",
       "4      1        2              1987                   85.0              0   \n",
       "\n",
       "   Penalty_Attempted    xG    xA  Yellow_Cards  Red_Cards  \n",
       "0                  1  0.21  0.24             2          0  \n",
       "1                  0  0.00  0.00             2          0  \n",
       "2                  0  0.41  0.21             2          0  \n",
       "3                  0  0.10  0.11             3          0  \n",
       "4                  0  0.06  0.12             3          0  "
      ]
     },
     "execution_count": 16,
     "metadata": {},
     "output_type": "execute_result"
    }
   ],
   "source": [
    "dataF.head()"
   ]
  },
  {
   "cell_type": "code",
   "execution_count": 17,
   "metadata": {},
   "outputs": [
    {
     "name": "stdout",
     "output_type": "stream",
     "text": [
      "(532, 18)\n",
      "Index(['Name', 'Club', 'Nationality', 'Position', 'Age', 'Matches', 'Starts',\n",
      "       'Mins', 'Goals', 'Assists', 'Passes_Attempted', 'Perc_Passes_Completed',\n",
      "       'Penalty_Goals', 'Penalty_Attempted', 'xG', 'xA', 'Yellow_Cards',\n",
      "       'Red_Cards'],\n",
      "      dtype='object')\n"
     ]
    }
   ],
   "source": [
    "print(dataF.shape)\n",
    "print(dataF.columns)"
   ]
  },
  {
   "cell_type": "code",
   "execution_count": 21,
   "metadata": {},
   "outputs": [
    {
     "name": "stdout",
     "output_type": "stream",
     "text": [
      "986\n",
      "102\n",
      "125\n"
     ]
    }
   ],
   "source": [
    "print(dataF.Goals.sum())\n",
    "print(dataF.Penalty_Goals.sum())\n",
    "print(dataF.Penalty_Attempted.sum())"
   ]
  },
  {
   "cell_type": "markdown",
   "metadata": {},
   "source": [
    "### Gráfico Pie chart **Penales Marcados** y **Penales Atajados**."
   ]
  },
  {
   "cell_type": "code",
   "execution_count": 23,
   "metadata": {},
   "outputs": [
    {
     "data": {
      "image/png": "[encoded data removed]",
      "text/plain": [
       "<Figure size 1152x648 with 1 Axes>"
      ]
     },
     "metadata": {},
     "output_type": "display_data"
    }
   ],
   "source": [
    "plt.figure(figsize=(16,9))\n",
    "penales = dataF['Penalty_Goals'].sum()\n",
    "datos = [dataF['Penalty_Attempted'].sum() - penales,dataF['Penalty_Goals'].sum() ]\n",
    "names = ['P. Atajados','P. Marcados']\n",
    "colores = sns.color_palette('Set2')\n",
    "plt.pie(datos, labels = names, colors = colores, autopct = '%.0f%%')\n",
    "plt.show()"
   ]
  },
  {
   "cell_type": "code",
   "execution_count": 24,
   "metadata": {},
   "outputs": [
    {
     "data": {
      "text/plain": [
       "Index(['Name', 'Club', 'Nationality', 'Position', 'Age', 'Matches', 'Starts',\n",
       "       'Mins', 'Goals', 'Assists', 'Passes_Attempted', 'Perc_Passes_Completed',\n",
       "       'Penalty_Goals', 'Penalty_Attempted', 'xG', 'xA', 'Yellow_Cards',\n",
       "       'Red_Cards'],\n",
       "      dtype='object')"
      ]
     },
     "execution_count": 24,
     "metadata": {},
     "output_type": "execute_result"
    }
   ],
   "source": [
    "dataF.columns"
   ]
  },
  {
   "cell_type": "code",
   "execution_count": 25,
   "metadata": {},
   "outputs": [
    {
     "data": {
      "text/plain": [
       "array(['MF,FW', 'GK', 'FW', 'DF', 'MF', 'FW,MF', 'FW,DF', 'DF,MF',\n",
       "       'MF,DF', 'DF,FW'], dtype=object)"
      ]
     },
     "execution_count": 25,
     "metadata": {},
     "output_type": "execute_result"
    }
   ],
   "source": [
    "dataF.Position.unique()"
   ]
  },
  {
   "cell_type": "code",
   "execution_count": 27,
   "metadata": {},
   "outputs": [
    {
     "data": {
      "text/html": [
       "<div>\n",
       "<style scoped>\n",
       "    .dataframe tbody tr th:only-of-type {\n",
       "        vertical-align: middle;\n",
       "    }\n",
       "\n",
       "    .dataframe tbody tr th {\n",
       "        vertical-align: top;\n",
       "    }\n",
       "\n",
       "    .dataframe thead th {\n",
       "        text-align: right;\n",
       "    }\n",
       "</style>\n",
       "<table border=\"1\" class=\"dataframe\">\n",
       "  <thead>\n",
       "    <tr style=\"text-align: right;\">\n",
       "      <th></th>\n",
       "      <th>Name</th>\n",
       "      <th>Club</th>\n",
       "      <th>Nationality</th>\n",
       "      <th>Position</th>\n",
       "      <th>Age</th>\n",
       "      <th>Matches</th>\n",
       "      <th>Starts</th>\n",
       "      <th>Mins</th>\n",
       "      <th>Goals</th>\n",
       "      <th>Assists</th>\n",
       "      <th>Passes_Attempted</th>\n",
       "      <th>Perc_Passes_Completed</th>\n",
       "      <th>Penalty_Goals</th>\n",
       "      <th>Penalty_Attempted</th>\n",
       "      <th>xG</th>\n",
       "      <th>xA</th>\n",
       "      <th>Yellow_Cards</th>\n",
       "      <th>Red_Cards</th>\n",
       "    </tr>\n",
       "  </thead>\n",
       "  <tbody>\n",
       "    <tr>\n",
       "      <th>2</th>\n",
       "      <td>Timo Werner</td>\n",
       "      <td>Chelsea</td>\n",
       "      <td>GER</td>\n",
       "      <td>FW</td>\n",
       "      <td>24</td>\n",
       "      <td>35</td>\n",
       "      <td>29</td>\n",
       "      <td>2602</td>\n",
       "      <td>6</td>\n",
       "      <td>8</td>\n",
       "      <td>826</td>\n",
       "      <td>77.2</td>\n",
       "      <td>0</td>\n",
       "      <td>0</td>\n",
       "      <td>0.41</td>\n",
       "      <td>0.21</td>\n",
       "      <td>2</td>\n",
       "      <td>0</td>\n",
       "    </tr>\n",
       "    <tr>\n",
       "      <th>16</th>\n",
       "      <td>Tammy Abraham</td>\n",
       "      <td>Chelsea</td>\n",
       "      <td>ENG</td>\n",
       "      <td>FW</td>\n",
       "      <td>22</td>\n",
       "      <td>22</td>\n",
       "      <td>12</td>\n",
       "      <td>1040</td>\n",
       "      <td>6</td>\n",
       "      <td>1</td>\n",
       "      <td>218</td>\n",
       "      <td>68.3</td>\n",
       "      <td>0</td>\n",
       "      <td>0</td>\n",
       "      <td>0.56</td>\n",
       "      <td>0.07</td>\n",
       "      <td>0</td>\n",
       "      <td>0</td>\n",
       "    </tr>\n",
       "    <tr>\n",
       "      <th>19</th>\n",
       "      <td>Olivier Giroud</td>\n",
       "      <td>Chelsea</td>\n",
       "      <td>FRA</td>\n",
       "      <td>FW</td>\n",
       "      <td>33</td>\n",
       "      <td>17</td>\n",
       "      <td>8</td>\n",
       "      <td>748</td>\n",
       "      <td>4</td>\n",
       "      <td>0</td>\n",
       "      <td>217</td>\n",
       "      <td>74.2</td>\n",
       "      <td>0</td>\n",
       "      <td>0</td>\n",
       "      <td>0.58</td>\n",
       "      <td>0.09</td>\n",
       "      <td>1</td>\n",
       "      <td>0</td>\n",
       "    </tr>\n",
       "    <tr>\n",
       "      <th>23</th>\n",
       "      <td>Ruben Loftus-Cheek</td>\n",
       "      <td>Chelsea</td>\n",
       "      <td>ENG</td>\n",
       "      <td>FW</td>\n",
       "      <td>24</td>\n",
       "      <td>1</td>\n",
       "      <td>1</td>\n",
       "      <td>60</td>\n",
       "      <td>0</td>\n",
       "      <td>0</td>\n",
       "      <td>16</td>\n",
       "      <td>68.8</td>\n",
       "      <td>0</td>\n",
       "      <td>0</td>\n",
       "      <td>0.00</td>\n",
       "      <td>0.00</td>\n",
       "      <td>0</td>\n",
       "      <td>0</td>\n",
       "    </tr>\n",
       "    <tr>\n",
       "      <th>30</th>\n",
       "      <td>Raheem Sterling</td>\n",
       "      <td>Manchester City</td>\n",
       "      <td>ENG</td>\n",
       "      <td>FW</td>\n",
       "      <td>25</td>\n",
       "      <td>31</td>\n",
       "      <td>28</td>\n",
       "      <td>2536</td>\n",
       "      <td>10</td>\n",
       "      <td>7</td>\n",
       "      <td>1127</td>\n",
       "      <td>85.4</td>\n",
       "      <td>0</td>\n",
       "      <td>1</td>\n",
       "      <td>0.43</td>\n",
       "      <td>0.17</td>\n",
       "      <td>4</td>\n",
       "      <td>0</td>\n",
       "    </tr>\n",
       "    <tr>\n",
       "      <th>...</th>\n",
       "      <td>...</td>\n",
       "      <td>...</td>\n",
       "      <td>...</td>\n",
       "      <td>...</td>\n",
       "      <td>...</td>\n",
       "      <td>...</td>\n",
       "      <td>...</td>\n",
       "      <td>...</td>\n",
       "      <td>...</td>\n",
       "      <td>...</td>\n",
       "      <td>...</td>\n",
       "      <td>...</td>\n",
       "      <td>...</td>\n",
       "      <td>...</td>\n",
       "      <td>...</td>\n",
       "      <td>...</td>\n",
       "      <td>...</td>\n",
       "      <td>...</td>\n",
       "    </tr>\n",
       "    <tr>\n",
       "      <th>516</th>\n",
       "      <td>Oliver Burke</td>\n",
       "      <td>Sheffield United</td>\n",
       "      <td>SCO</td>\n",
       "      <td>FW</td>\n",
       "      <td>23</td>\n",
       "      <td>25</td>\n",
       "      <td>14</td>\n",
       "      <td>1269</td>\n",
       "      <td>1</td>\n",
       "      <td>1</td>\n",
       "      <td>262</td>\n",
       "      <td>70.6</td>\n",
       "      <td>0</td>\n",
       "      <td>0</td>\n",
       "      <td>0.17</td>\n",
       "      <td>0.13</td>\n",
       "      <td>2</td>\n",
       "      <td>0</td>\n",
       "    </tr>\n",
       "    <tr>\n",
       "      <th>518</th>\n",
       "      <td>Oliver McBurnie</td>\n",
       "      <td>Sheffield United</td>\n",
       "      <td>SCO</td>\n",
       "      <td>FW</td>\n",
       "      <td>24</td>\n",
       "      <td>23</td>\n",
       "      <td>12</td>\n",
       "      <td>1324</td>\n",
       "      <td>1</td>\n",
       "      <td>0</td>\n",
       "      <td>426</td>\n",
       "      <td>62.9</td>\n",
       "      <td>0</td>\n",
       "      <td>0</td>\n",
       "      <td>0.21</td>\n",
       "      <td>0.07</td>\n",
       "      <td>2</td>\n",
       "      <td>0</td>\n",
       "    </tr>\n",
       "    <tr>\n",
       "      <th>519</th>\n",
       "      <td>Rhian Brewster</td>\n",
       "      <td>Sheffield United</td>\n",
       "      <td>ENG</td>\n",
       "      <td>FW</td>\n",
       "      <td>20</td>\n",
       "      <td>27</td>\n",
       "      <td>12</td>\n",
       "      <td>1128</td>\n",
       "      <td>0</td>\n",
       "      <td>0</td>\n",
       "      <td>225</td>\n",
       "      <td>69.3</td>\n",
       "      <td>0</td>\n",
       "      <td>0</td>\n",
       "      <td>0.14</td>\n",
       "      <td>0.13</td>\n",
       "      <td>1</td>\n",
       "      <td>0</td>\n",
       "    </tr>\n",
       "    <tr>\n",
       "      <th>523</th>\n",
       "      <td>Billy Sharp</td>\n",
       "      <td>Sheffield United</td>\n",
       "      <td>ENG</td>\n",
       "      <td>FW</td>\n",
       "      <td>34</td>\n",
       "      <td>16</td>\n",
       "      <td>7</td>\n",
       "      <td>735</td>\n",
       "      <td>3</td>\n",
       "      <td>0</td>\n",
       "      <td>123</td>\n",
       "      <td>69.9</td>\n",
       "      <td>2</td>\n",
       "      <td>2</td>\n",
       "      <td>0.33</td>\n",
       "      <td>0.07</td>\n",
       "      <td>1</td>\n",
       "      <td>0</td>\n",
       "    </tr>\n",
       "    <tr>\n",
       "      <th>526</th>\n",
       "      <td>Daniel Jebbison</td>\n",
       "      <td>Sheffield United</td>\n",
       "      <td>ENG</td>\n",
       "      <td>FW</td>\n",
       "      <td>17</td>\n",
       "      <td>4</td>\n",
       "      <td>3</td>\n",
       "      <td>284</td>\n",
       "      <td>1</td>\n",
       "      <td>0</td>\n",
       "      <td>34</td>\n",
       "      <td>70.6</td>\n",
       "      <td>0</td>\n",
       "      <td>0</td>\n",
       "      <td>0.50</td>\n",
       "      <td>0.01</td>\n",
       "      <td>0</td>\n",
       "      <td>0</td>\n",
       "    </tr>\n",
       "  </tbody>\n",
       "</table>\n",
       "<p>81 rows × 18 columns</p>\n",
       "</div>"
      ],
      "text/plain": [
       "                   Name              Club Nationality Position  Age  Matches  \\\n",
       "2           Timo Werner           Chelsea         GER       FW   24       35   \n",
       "16        Tammy Abraham           Chelsea         ENG       FW   22       22   \n",
       "19       Olivier Giroud           Chelsea         FRA       FW   33       17   \n",
       "23   Ruben Loftus-Cheek           Chelsea         ENG       FW   24        1   \n",
       "30      Raheem Sterling   Manchester City         ENG       FW   25       31   \n",
       "..                  ...               ...         ...      ...  ...      ...   \n",
       "516        Oliver Burke  Sheffield United         SCO       FW   23       25   \n",
       "518     Oliver McBurnie  Sheffield United         SCO       FW   24       23   \n",
       "519      Rhian Brewster  Sheffield United         ENG       FW   20       27   \n",
       "523         Billy Sharp  Sheffield United         ENG       FW   34       16   \n",
       "526     Daniel Jebbison  Sheffield United         ENG       FW   17        4   \n",
       "\n",
       "     Starts  Mins  Goals  Assists  Passes_Attempted  Perc_Passes_Completed  \\\n",
       "2        29  2602      6        8               826                   77.2   \n",
       "16       12  1040      6        1               218                   68.3   \n",
       "19        8   748      4        0               217                   74.2   \n",
       "23        1    60      0        0                16                   68.8   \n",
       "30       28  2536     10        7              1127                   85.4   \n",
       "..      ...   ...    ...      ...               ...                    ...   \n",
       "516      14  1269      1        1               262                   70.6   \n",
       "518      12  1324      1        0               426                   62.9   \n",
       "519      12  1128      0        0               225                   69.3   \n",
       "523       7   735      3        0               123                   69.9   \n",
       "526       3   284      1        0                34                   70.6   \n",
       "\n",
       "     Penalty_Goals  Penalty_Attempted    xG    xA  Yellow_Cards  Red_Cards  \n",
       "2                0                  0  0.41  0.21             2          0  \n",
       "16               0                  0  0.56  0.07             0          0  \n",
       "19               0                  0  0.58  0.09             1          0  \n",
       "23               0                  0  0.00  0.00             0          0  \n",
       "30               0                  1  0.43  0.17             4          0  \n",
       "..             ...                ...   ...   ...           ...        ...  \n",
       "516              0                  0  0.17  0.13             2          0  \n",
       "518              0                  0  0.21  0.07             2          0  \n",
       "519              0                  0  0.14  0.13             1          0  \n",
       "523              2                  2  0.33  0.07             1          0  \n",
       "526              0                  0  0.50  0.01             0          0  \n",
       "\n",
       "[81 rows x 18 columns]"
      ]
     },
     "execution_count": 27,
     "metadata": {},
     "output_type": "execute_result"
    }
   ],
   "source": [
    "dataF[dataF.Position == 'FW']"
   ]
  },
  {
   "cell_type": "code",
   "execution_count": 28,
   "metadata": {},
   "outputs": [
    {
     "data": {
      "text/plain": [
       "59"
      ]
     },
     "execution_count": 28,
     "metadata": {},
     "output_type": "execute_result"
    }
   ],
   "source": [
    "np.size((dataF['Nationality'].unique()))"
   ]
  },
  {
   "cell_type": "code",
   "execution_count": 29,
   "metadata": {},
   "outputs": [
    {
     "data": {
      "image/png": "[encoded data removed]",
      "text/plain": [
       "<Figure size 864x432 with 1 Axes>"
      ]
     },
     "metadata": {
      "needs_background": "light"
     },
     "output_type": "display_data"
    }
   ],
   "source": [
    "nacionali = dataF.groupby('Nationality').size().sort_values(ascending = False)\n",
    "nacionali.head(10).plot(kind='bar', figsize=(12, 6), color=sns.color_palette('Greys'))\n",
    "plt.show()\n"
   ]
  },
  {
   "cell_type": "code",
   "execution_count": 32,
   "metadata": {},
   "outputs": [
    {
     "data": {
      "image/png": "[encoded data removed]",
      "text/plain": [
       "<Figure size 432x288 with 1 Axes>"
      ]
     },
     "metadata": {
      "needs_background": "light"
     },
     "output_type": "display_data"
    }
   ],
   "source": [
    "dataF['Club'].value_counts().nlargest(3).plot(kind='bar', color=sns.color_palette('Greys'))\n",
    "plt.show()\n"
   ]
  },
  {
   "cell_type": "code",
   "execution_count": 31,
   "metadata": {},
   "outputs": [
    {
     "data": {
      "image/png": "[encoded data removed]",
      "text/plain": [
       "<Figure size 432x288 with 1 Axes>"
      ]
     },
     "metadata": {
      "needs_background": "light"
     },
     "output_type": "display_data"
    }
   ],
   "source": [
    "dataF.Club.value_counts().nsmallest(5).plot(kind='bar', color=sns.color_palette('Greys'))\n",
    "plt.show()"
   ]
  },
  {
   "cell_type": "markdown",
   "metadata": {},
   "source": [
    "### Edad de los jugadores"
   ]
  },
  {
   "cell_type": "code",
   "execution_count": 35,
   "metadata": {},
   "outputs": [
    {
     "data": {
      "image/png": "[encoded data removed]",
      "text/plain": [
       "<Figure size 864x288 with 1 Axes>"
      ]
     },
     "metadata": {},
     "output_type": "display_data"
    }
   ],
   "source": [
    "Edad20 = dataF[dataF['Age'] <= 20]\n",
    "Edad2025 = dataF[(dataF['Age'] > 20) & (dataF['Age'] <= 25) ]\n",
    "Edad2530 = dataF[(dataF['Age'] > 25) & (dataF['Age'] <= 30) ]\n",
    "Edad30 = dataF[dataF['Age'] > 30]\n",
    "dts = np.array([Edad20['Name'].count(), Edad2025['Name'].count(),Edad2530['Name'].count(), Edad30['Name'].count()])\n",
    "lbls = ['<= 20', '> 20 &  <= 25', '> 25  & <= 30', '> 30']\n",
    "plt.figure(figsize=(12,4))\n",
    "plt.title('Jugadores por Edad', fontsize=12)\n",
    "plt.pie(dts, labels=lbls, autopct='%.1f%%')\n",
    "plt.show()"
   ]
  },
  {
   "cell_type": "code",
   "execution_count": 36,
   "metadata": {},
   "outputs": [
    {
     "data": {
      "image/png": "[encoded data removed]",
      "text/plain": [
       "<Figure size 432x288 with 1 Axes>"
      ]
     },
     "metadata": {
      "needs_background": "light"
     },
     "output_type": "display_data"
    }
   ],
   "source": [
    "dataF[dataF['Age'] < 20].Club.value_counts().plot(kind='bar',color=sns.color_palette('terrain_r'))\n",
    "plt.show()                                             "
   ]
  },
  {
   "cell_type": "code",
   "execution_count": 37,
   "metadata": {},
   "outputs": [
    {
     "data": {
      "text/html": [
       "<div>\n",
       "<style scoped>\n",
       "    .dataframe tbody tr th:only-of-type {\n",
       "        vertical-align: middle;\n",
       "    }\n",
       "\n",
       "    .dataframe tbody tr th {\n",
       "        vertical-align: top;\n",
       "    }\n",
       "\n",
       "    .dataframe thead th {\n",
       "        text-align: right;\n",
       "    }\n",
       "</style>\n",
       "<table border=\"1\" class=\"dataframe\">\n",
       "  <thead>\n",
       "    <tr style=\"text-align: right;\">\n",
       "      <th></th>\n",
       "      <th>Name</th>\n",
       "      <th>Club</th>\n",
       "      <th>Nationality</th>\n",
       "      <th>Position</th>\n",
       "      <th>Age</th>\n",
       "      <th>Matches</th>\n",
       "      <th>Starts</th>\n",
       "      <th>Mins</th>\n",
       "      <th>Goals</th>\n",
       "      <th>Assists</th>\n",
       "      <th>Passes_Attempted</th>\n",
       "      <th>Perc_Passes_Completed</th>\n",
       "      <th>Penalty_Goals</th>\n",
       "      <th>Penalty_Attempted</th>\n",
       "      <th>xG</th>\n",
       "      <th>xA</th>\n",
       "      <th>Yellow_Cards</th>\n",
       "      <th>Red_Cards</th>\n",
       "    </tr>\n",
       "  </thead>\n",
       "  <tbody>\n",
       "    <tr>\n",
       "      <th>61</th>\n",
       "      <td>Mason Greenwood</td>\n",
       "      <td>Manchester United</td>\n",
       "      <td>ENG</td>\n",
       "      <td>FW</td>\n",
       "      <td>18</td>\n",
       "      <td>31</td>\n",
       "      <td>21</td>\n",
       "      <td>1822</td>\n",
       "      <td>7</td>\n",
       "      <td>2</td>\n",
       "      <td>732</td>\n",
       "      <td>83.1</td>\n",
       "      <td>0</td>\n",
       "      <td>0</td>\n",
       "      <td>0.37</td>\n",
       "      <td>0.09</td>\n",
       "      <td>2</td>\n",
       "      <td>0</td>\n",
       "    </tr>\n",
       "    <tr>\n",
       "      <th>72</th>\n",
       "      <td>Brandon Williams</td>\n",
       "      <td>Manchester United</td>\n",
       "      <td>ENG</td>\n",
       "      <td>DF</td>\n",
       "      <td>19</td>\n",
       "      <td>4</td>\n",
       "      <td>2</td>\n",
       "      <td>188</td>\n",
       "      <td>0</td>\n",
       "      <td>0</td>\n",
       "      <td>140</td>\n",
       "      <td>85.7</td>\n",
       "      <td>0</td>\n",
       "      <td>0</td>\n",
       "      <td>0.05</td>\n",
       "      <td>0.01</td>\n",
       "      <td>0</td>\n",
       "      <td>0</td>\n",
       "    </tr>\n",
       "    <tr>\n",
       "      <th>73</th>\n",
       "      <td>Amad Diallo</td>\n",
       "      <td>Manchester United</td>\n",
       "      <td>CIV</td>\n",
       "      <td>FW</td>\n",
       "      <td>18</td>\n",
       "      <td>3</td>\n",
       "      <td>2</td>\n",
       "      <td>166</td>\n",
       "      <td>0</td>\n",
       "      <td>1</td>\n",
       "      <td>64</td>\n",
       "      <td>84.4</td>\n",
       "      <td>0</td>\n",
       "      <td>0</td>\n",
       "      <td>0.02</td>\n",
       "      <td>0.26</td>\n",
       "      <td>0</td>\n",
       "      <td>0</td>\n",
       "    </tr>\n",
       "    <tr>\n",
       "      <th>74</th>\n",
       "      <td>Anthony Elanga</td>\n",
       "      <td>Manchester United</td>\n",
       "      <td>SWE</td>\n",
       "      <td>FW</td>\n",
       "      <td>18</td>\n",
       "      <td>2</td>\n",
       "      <td>2</td>\n",
       "      <td>155</td>\n",
       "      <td>1</td>\n",
       "      <td>0</td>\n",
       "      <td>53</td>\n",
       "      <td>81.1</td>\n",
       "      <td>0</td>\n",
       "      <td>0</td>\n",
       "      <td>0.16</td>\n",
       "      <td>0.02</td>\n",
       "      <td>0</td>\n",
       "      <td>0</td>\n",
       "    </tr>\n",
       "    <tr>\n",
       "      <th>76</th>\n",
       "      <td>Shola Shoretire</td>\n",
       "      <td>Manchester United</td>\n",
       "      <td>ENG</td>\n",
       "      <td>FW</td>\n",
       "      <td>16</td>\n",
       "      <td>2</td>\n",
       "      <td>0</td>\n",
       "      <td>11</td>\n",
       "      <td>0</td>\n",
       "      <td>0</td>\n",
       "      <td>8</td>\n",
       "      <td>75.0</td>\n",
       "      <td>0</td>\n",
       "      <td>0</td>\n",
       "      <td>0.00</td>\n",
       "      <td>0.00</td>\n",
       "      <td>0</td>\n",
       "      <td>0</td>\n",
       "    </tr>\n",
       "    <tr>\n",
       "      <th>78</th>\n",
       "      <td>Hannibal Mejbri</td>\n",
       "      <td>Manchester United</td>\n",
       "      <td>FRA</td>\n",
       "      <td>MF</td>\n",
       "      <td>17</td>\n",
       "      <td>1</td>\n",
       "      <td>0</td>\n",
       "      <td>9</td>\n",
       "      <td>0</td>\n",
       "      <td>0</td>\n",
       "      <td>3</td>\n",
       "      <td>100.0</td>\n",
       "      <td>0</td>\n",
       "      <td>0</td>\n",
       "      <td>0.00</td>\n",
       "      <td>0.00</td>\n",
       "      <td>0</td>\n",
       "      <td>0</td>\n",
       "    </tr>\n",
       "    <tr>\n",
       "      <th>79</th>\n",
       "      <td>William Thomas Fish</td>\n",
       "      <td>Manchester United</td>\n",
       "      <td>ENG</td>\n",
       "      <td>DF</td>\n",
       "      <td>17</td>\n",
       "      <td>1</td>\n",
       "      <td>0</td>\n",
       "      <td>1</td>\n",
       "      <td>0</td>\n",
       "      <td>0</td>\n",
       "      <td>1</td>\n",
       "      <td>0.0</td>\n",
       "      <td>0</td>\n",
       "      <td>0</td>\n",
       "      <td>0.00</td>\n",
       "      <td>0.00</td>\n",
       "      <td>0</td>\n",
       "      <td>0</td>\n",
       "    </tr>\n",
       "  </tbody>\n",
       "</table>\n",
       "</div>"
      ],
      "text/plain": [
       "                   Name               Club Nationality Position  Age  Matches  \\\n",
       "61      Mason Greenwood  Manchester United         ENG       FW   18       31   \n",
       "72     Brandon Williams  Manchester United         ENG       DF   19        4   \n",
       "73          Amad Diallo  Manchester United         CIV       FW   18        3   \n",
       "74       Anthony Elanga  Manchester United         SWE       FW   18        2   \n",
       "76      Shola Shoretire  Manchester United         ENG       FW   16        2   \n",
       "78      Hannibal Mejbri  Manchester United         FRA       MF   17        1   \n",
       "79  William Thomas Fish  Manchester United         ENG       DF   17        1   \n",
       "\n",
       "    Starts  Mins  Goals  Assists  Passes_Attempted  Perc_Passes_Completed  \\\n",
       "61      21  1822      7        2               732                   83.1   \n",
       "72       2   188      0        0               140                   85.7   \n",
       "73       2   166      0        1                64                   84.4   \n",
       "74       2   155      1        0                53                   81.1   \n",
       "76       0    11      0        0                 8                   75.0   \n",
       "78       0     9      0        0                 3                  100.0   \n",
       "79       0     1      0        0                 1                    0.0   \n",
       "\n",
       "    Penalty_Goals  Penalty_Attempted    xG    xA  Yellow_Cards  Red_Cards  \n",
       "61              0                  0  0.37  0.09             2          0  \n",
       "72              0                  0  0.05  0.01             0          0  \n",
       "73              0                  0  0.02  0.26             0          0  \n",
       "74              0                  0  0.16  0.02             0          0  \n",
       "76              0                  0  0.00  0.00             0          0  \n",
       "78              0                  0  0.00  0.00             0          0  \n",
       "79              0                  0  0.00  0.00             0          0  "
      ]
     },
     "execution_count": 37,
     "metadata": {},
     "output_type": "execute_result"
    }
   ],
   "source": [
    "Edad20[Edad20['Club'] == 'Manchester United']"
   ]
  },
  {
   "cell_type": "code",
   "execution_count": 61,
   "metadata": {},
   "outputs": [
    {
     "data": {
      "text/html": [
       "<div>\n",
       "<style scoped>\n",
       "    .dataframe tbody tr th:only-of-type {\n",
       "        vertical-align: middle;\n",
       "    }\n",
       "\n",
       "    .dataframe tbody tr th {\n",
       "        vertical-align: top;\n",
       "    }\n",
       "\n",
       "    .dataframe thead th {\n",
       "        text-align: right;\n",
       "    }\n",
       "</style>\n",
       "<table border=\"1\" class=\"dataframe\">\n",
       "  <thead>\n",
       "    <tr style=\"text-align: right;\">\n",
       "      <th></th>\n",
       "      <th>Name</th>\n",
       "      <th>Club</th>\n",
       "      <th>Nationality</th>\n",
       "      <th>Position</th>\n",
       "      <th>Age</th>\n",
       "      <th>Matches</th>\n",
       "      <th>Starts</th>\n",
       "      <th>Mins</th>\n",
       "      <th>Goals</th>\n",
       "      <th>Assists</th>\n",
       "      <th>Passes_Attempted</th>\n",
       "      <th>Perc_Passes_Completed</th>\n",
       "      <th>Penalty_Goals</th>\n",
       "      <th>Penalty_Attempted</th>\n",
       "      <th>xG</th>\n",
       "      <th>xA</th>\n",
       "      <th>Yellow_Cards</th>\n",
       "      <th>Red_Cards</th>\n",
       "      <th>MinsPerMatch</th>\n",
       "      <th>GoalsPerMatch</th>\n",
       "    </tr>\n",
       "  </thead>\n",
       "  <tbody>\n",
       "    <tr>\n",
       "      <th>4</th>\n",
       "      <td>Reece James</td>\n",
       "      <td>Chelsea</td>\n",
       "      <td>ENG</td>\n",
       "      <td>DF</td>\n",
       "      <td>20</td>\n",
       "      <td>32</td>\n",
       "      <td>25</td>\n",
       "      <td>2373</td>\n",
       "      <td>1</td>\n",
       "      <td>2</td>\n",
       "      <td>1987</td>\n",
       "      <td>85.0</td>\n",
       "      <td>0</td>\n",
       "      <td>0</td>\n",
       "      <td>0.06</td>\n",
       "      <td>0.12</td>\n",
       "      <td>3</td>\n",
       "      <td>0</td>\n",
       "      <td>74</td>\n",
       "      <td>0.031250</td>\n",
       "    </tr>\n",
       "    <tr>\n",
       "      <th>18</th>\n",
       "      <td>Callum Hudson-Odoi</td>\n",
       "      <td>Chelsea</td>\n",
       "      <td>ENG</td>\n",
       "      <td>FW,DF</td>\n",
       "      <td>19</td>\n",
       "      <td>23</td>\n",
       "      <td>10</td>\n",
       "      <td>1059</td>\n",
       "      <td>2</td>\n",
       "      <td>3</td>\n",
       "      <td>659</td>\n",
       "      <td>82.2</td>\n",
       "      <td>0</td>\n",
       "      <td>0</td>\n",
       "      <td>0.12</td>\n",
       "      <td>0.26</td>\n",
       "      <td>0</td>\n",
       "      <td>0</td>\n",
       "      <td>46</td>\n",
       "      <td>0.086957</td>\n",
       "    </tr>\n",
       "    <tr>\n",
       "      <th>21</th>\n",
       "      <td>Billy Gilmour</td>\n",
       "      <td>Chelsea</td>\n",
       "      <td>SCO</td>\n",
       "      <td>MF</td>\n",
       "      <td>19</td>\n",
       "      <td>5</td>\n",
       "      <td>3</td>\n",
       "      <td>261</td>\n",
       "      <td>0</td>\n",
       "      <td>0</td>\n",
       "      <td>215</td>\n",
       "      <td>89.3</td>\n",
       "      <td>0</td>\n",
       "      <td>0</td>\n",
       "      <td>0.01</td>\n",
       "      <td>0.04</td>\n",
       "      <td>0</td>\n",
       "      <td>0</td>\n",
       "      <td>52</td>\n",
       "      <td>0.000000</td>\n",
       "    </tr>\n",
       "  </tbody>\n",
       "</table>\n",
       "</div>"
      ],
      "text/plain": [
       "                  Name     Club Nationality Position  Age  Matches  Starts  \\\n",
       "4          Reece James  Chelsea         ENG       DF   20       32      25   \n",
       "18  Callum Hudson-Odoi  Chelsea         ENG    FW,DF   19       23      10   \n",
       "21       Billy Gilmour  Chelsea         SCO       MF   19        5       3   \n",
       "\n",
       "    Mins  Goals  Assists  Passes_Attempted  Perc_Passes_Completed  \\\n",
       "4   2373      1        2              1987                   85.0   \n",
       "18  1059      2        3               659                   82.2   \n",
       "21   261      0        0               215                   89.3   \n",
       "\n",
       "    Penalty_Goals  Penalty_Attempted    xG    xA  Yellow_Cards  Red_Cards  \\\n",
       "4               0                  0  0.06  0.12             3          0   \n",
       "18              0                  0  0.12  0.26             0          0   \n",
       "21              0                  0  0.01  0.04             0          0   \n",
       "\n",
       "    MinsPerMatch  GoalsPerMatch  \n",
       "4             74       0.031250  \n",
       "18            46       0.086957  \n",
       "21            52       0.000000  "
      ]
     },
     "execution_count": 61,
     "metadata": {},
     "output_type": "execute_result"
    }
   ],
   "source": [
    "E20[E20.Club == 'Chelsea']"
   ]
  },
  {
   "cell_type": "code",
   "execution_count": 38,
   "metadata": {
    "tags": []
   },
   "outputs": [
    {
     "data": {
      "image/png": "[encoded data removed]",
      "text/plain": [
       "<Figure size 1152x432 with 1 Axes>"
      ]
     },
     "metadata": {
      "needs_background": "light"
     },
     "output_type": "display_data"
    }
   ],
   "source": [
    "plt.figure(figsize = (16,6))\n",
    "sns.boxplot(x='Club',y='Age', data=dataF)\n",
    "plt.xticks(rotation = 90)\n",
    "plt.show()"
   ]
  },
  {
   "cell_type": "code",
   "execution_count": 39,
   "metadata": {
    "tags": []
   },
   "outputs": [
    {
     "data": {
      "text/plain": [
       "Club\n",
       "Crystal Palace             28.333333\n",
       "West Ham United            27.500000\n",
       "Burnley                    27.040000\n",
       "West Bromwich Albion       26.766667\n",
       "Newcastle United           26.074074\n",
       "Manchester City            25.708333\n",
       "Tottenham Hotspur          25.625000\n",
       "Chelsea                    25.592593\n",
       "Leicester City             25.592593\n",
       "Liverpool FC               25.571429\n",
       "Everton                    25.413793\n",
       "Leeds United               25.347826\n",
       "Fulham                     25.035714\n",
       "Arsenal                    24.965517\n",
       "Sheffield United           24.814815\n",
       "Brighton                   24.555556\n",
       "Wolverhampton Wanderers    24.444444\n",
       "Aston Villa                24.291667\n",
       "Southampton                24.137931\n",
       "Manchester United          23.862069\n",
       "dtype: float64"
      ]
     },
     "execution_count": 39,
     "metadata": {},
     "output_type": "execute_result"
    }
   ],
   "source": [
    "jgdr = dataF.groupby('Club').size()\n",
    "d = (dataF.groupby('Club').Age.sum()) / jgdr\n",
    "d.sort_values(ascending = False)"
   ]
  },
  {
   "cell_type": "code",
   "execution_count": 40,
   "metadata": {
    "tags": []
   },
   "outputs": [
    {
     "data": {
      "image/png": "[encoded data removed]",
      "text/plain": [
       "<Figure size 432x288 with 1 Axes>"
      ]
     },
     "metadata": {},
     "output_type": "display_data"
    }
   ],
   "source": [
    "asistente = pd.DataFrame(dataF.groupby('Club', as_index = False).Assists.sum())\n",
    "sns.set(style = 'whitegrid', color_codes = True)\n",
    "dd=sns.barplot(x='Club', y='Assists', data=asistente.sort_values(by='Assists'), palette='pastel')\n",
    "dd.set_xlabel('Club', fontsize=24)\n",
    "dd.set_ylabel('Asistente', fontsize=16)\n",
    "plt.xticks(rotation=90)\n",
    "plt.rcParams['figure.figsize']=(28, 11)\n",
    "plt.title('Grafica de club - Total de asistencias', fontsize=22)\n",
    "plt.show()"
   ]
  },
  {
   "cell_type": "code",
   "execution_count": 42,
   "metadata": {},
   "outputs": [
    {
     "data": {
      "text/html": [
       "<div>\n",
       "<style scoped>\n",
       "    .dataframe tbody tr th:only-of-type {\n",
       "        vertical-align: middle;\n",
       "    }\n",
       "\n",
       "    .dataframe tbody tr th {\n",
       "        vertical-align: top;\n",
       "    }\n",
       "\n",
       "    .dataframe thead th {\n",
       "        text-align: right;\n",
       "    }\n",
       "</style>\n",
       "<table border=\"1\" class=\"dataframe\">\n",
       "  <thead>\n",
       "    <tr style=\"text-align: right;\">\n",
       "      <th></th>\n",
       "      <th>Name</th>\n",
       "      <th>Club</th>\n",
       "      <th>Assists</th>\n",
       "      <th>Matches</th>\n",
       "    </tr>\n",
       "  </thead>\n",
       "  <tbody>\n",
       "    <tr>\n",
       "      <th>162</th>\n",
       "      <td>Harry Kane</td>\n",
       "      <td>Tottenham Hotspur</td>\n",
       "      <td>14</td>\n",
       "      <td>35</td>\n",
       "    </tr>\n",
       "    <tr>\n",
       "      <th>34</th>\n",
       "      <td>Kevin De Bruyne</td>\n",
       "      <td>Manchester City</td>\n",
       "      <td>12</td>\n",
       "      <td>25</td>\n",
       "    </tr>\n",
       "    <tr>\n",
       "      <th>51</th>\n",
       "      <td>Bruno Fernandes</td>\n",
       "      <td>Manchester United</td>\n",
       "      <td>12</td>\n",
       "      <td>37</td>\n",
       "    </tr>\n",
       "    <tr>\n",
       "      <th>161</th>\n",
       "      <td>Son Heung-min</td>\n",
       "      <td>Tottenham Hotspur</td>\n",
       "      <td>10</td>\n",
       "      <td>37</td>\n",
       "    </tr>\n",
       "    <tr>\n",
       "      <th>273</th>\n",
       "      <td>Jack Grealish</td>\n",
       "      <td>Aston Villa</td>\n",
       "      <td>10</td>\n",
       "      <td>26</td>\n",
       "    </tr>\n",
       "    <tr>\n",
       "      <th>54</th>\n",
       "      <td>Marcus Rashford</td>\n",
       "      <td>Manchester United</td>\n",
       "      <td>9</td>\n",
       "      <td>37</td>\n",
       "    </tr>\n",
       "    <tr>\n",
       "      <th>110</th>\n",
       "      <td>Jamie Vardy</td>\n",
       "      <td>Leicester City</td>\n",
       "      <td>9</td>\n",
       "      <td>34</td>\n",
       "    </tr>\n",
       "    <tr>\n",
       "      <th>220</th>\n",
       "      <td>Raphael Dias Belloli</td>\n",
       "      <td>Leeds United</td>\n",
       "      <td>9</td>\n",
       "      <td>30</td>\n",
       "    </tr>\n",
       "    <tr>\n",
       "      <th>2</th>\n",
       "      <td>Timo Werner</td>\n",
       "      <td>Chelsea</td>\n",
       "      <td>8</td>\n",
       "      <td>35</td>\n",
       "    </tr>\n",
       "    <tr>\n",
       "      <th>136</th>\n",
       "      <td>Aaron Cresswell</td>\n",
       "      <td>West Ham United</td>\n",
       "      <td>8</td>\n",
       "      <td>36</td>\n",
       "    </tr>\n",
       "  </tbody>\n",
       "</table>\n",
       "</div>"
      ],
      "text/plain": [
       "                     Name               Club  Assists  Matches\n",
       "162            Harry Kane  Tottenham Hotspur       14       35\n",
       "34        Kevin De Bruyne    Manchester City       12       25\n",
       "51        Bruno Fernandes  Manchester United       12       37\n",
       "161         Son Heung-min  Tottenham Hotspur       10       37\n",
       "273         Jack Grealish        Aston Villa       10       26\n",
       "54        Marcus Rashford  Manchester United        9       37\n",
       "110           Jamie Vardy     Leicester City        9       34\n",
       "220  Raphael Dias Belloli       Leeds United        9       30\n",
       "2             Timo Werner            Chelsea        8       35\n",
       "136       Aaron Cresswell    West Ham United        8       36"
      ]
     },
     "execution_count": 42,
     "metadata": {},
     "output_type": "execute_result"
    }
   ],
   "source": [
    "dataF[['Name','Club','Assists','Matches']].nlargest(n = 10, columns = 'Assists')"
   ]
  },
  {
   "cell_type": "code",
   "execution_count": 43,
   "metadata": {
    "tags": []
   },
   "outputs": [
    {
     "data": {
      "image/png": "[encoded data removed]",
      "text/plain": [
       "<Figure size 2016x792 with 1 Axes>"
      ]
     },
     "metadata": {},
     "output_type": "display_data"
    }
   ],
   "source": [
    "gols_cl= pd.DataFrame(dataF.groupby('Club', as_index=False).Goals.sum())\n",
    "sns.set(style='whitegrid', color_codes=True)\n",
    "ax=sns.barplot(x='Club', y='Goals', data=gols_cl.sort_values(by='Goals'), palette='muted')\n",
    "ax.set_xlabel('CLUB', fontsize=22)\n",
    "ax.set_ylabel('GOLS', fontsize=12)\n",
    "plt.xticks(rotation=90)\n",
    "plt.rcParams['figure.figsize']=(20,10)\n",
    "plt.title('Grafica de club -  Goles', fontsize=20)\n",
    "plt.show()"
   ]
  },
  {
   "cell_type": "code",
   "execution_count": 47,
   "metadata": {},
   "outputs": [
    {
     "data": {
      "text/html": [
       "<div>\n",
       "<style scoped>\n",
       "    .dataframe tbody tr th:only-of-type {\n",
       "        vertical-align: middle;\n",
       "    }\n",
       "\n",
       "    .dataframe tbody tr th {\n",
       "        vertical-align: top;\n",
       "    }\n",
       "\n",
       "    .dataframe thead th {\n",
       "        text-align: right;\n",
       "    }\n",
       "</style>\n",
       "<table border=\"1\" class=\"dataframe\">\n",
       "  <thead>\n",
       "    <tr style=\"text-align: right;\">\n",
       "      <th></th>\n",
       "      <th>Name</th>\n",
       "      <th>Club</th>\n",
       "      <th>Goals</th>\n",
       "      <th>Matches</th>\n",
       "    </tr>\n",
       "  </thead>\n",
       "  <tbody>\n",
       "    <tr>\n",
       "      <th>162</th>\n",
       "      <td>Harry Kane</td>\n",
       "      <td>Tottenham Hotspur</td>\n",
       "      <td>23</td>\n",
       "      <td>35</td>\n",
       "    </tr>\n",
       "    <tr>\n",
       "      <th>81</th>\n",
       "      <td>Mohamed Salah</td>\n",
       "      <td>Liverpool FC</td>\n",
       "      <td>22</td>\n",
       "      <td>37</td>\n",
       "    </tr>\n",
       "    <tr>\n",
       "      <th>51</th>\n",
       "      <td>Bruno Fernandes</td>\n",
       "      <td>Manchester United</td>\n",
       "      <td>18</td>\n",
       "      <td>37</td>\n",
       "    </tr>\n",
       "    <tr>\n",
       "      <th>161</th>\n",
       "      <td>Son Heung-min</td>\n",
       "      <td>Tottenham Hotspur</td>\n",
       "      <td>17</td>\n",
       "      <td>37</td>\n",
       "    </tr>\n",
       "    <tr>\n",
       "      <th>214</th>\n",
       "      <td>Patrick Bamford</td>\n",
       "      <td>Leeds United</td>\n",
       "      <td>17</td>\n",
       "      <td>38</td>\n",
       "    </tr>\n",
       "    <tr>\n",
       "      <th>237</th>\n",
       "      <td>Dominic Calvert-Lewin</td>\n",
       "      <td>Everton</td>\n",
       "      <td>16</td>\n",
       "      <td>33</td>\n",
       "    </tr>\n",
       "    <tr>\n",
       "      <th>110</th>\n",
       "      <td>Jamie Vardy</td>\n",
       "      <td>Leicester City</td>\n",
       "      <td>15</td>\n",
       "      <td>34</td>\n",
       "    </tr>\n",
       "    <tr>\n",
       "      <th>267</th>\n",
       "      <td>Ollie Watkins</td>\n",
       "      <td>Aston Villa</td>\n",
       "      <td>14</td>\n",
       "      <td>37</td>\n",
       "    </tr>\n",
       "    <tr>\n",
       "      <th>33</th>\n",
       "      <td>İlkay Gündoğan</td>\n",
       "      <td>Manchester City</td>\n",
       "      <td>13</td>\n",
       "      <td>28</td>\n",
       "    </tr>\n",
       "    <tr>\n",
       "      <th>191</th>\n",
       "      <td>Alexandre Lacazette</td>\n",
       "      <td>Arsenal</td>\n",
       "      <td>13</td>\n",
       "      <td>31</td>\n",
       "    </tr>\n",
       "  </tbody>\n",
       "</table>\n",
       "</div>"
      ],
      "text/plain": [
       "                      Name               Club  Goals  Matches\n",
       "162             Harry Kane  Tottenham Hotspur     23       35\n",
       "81           Mohamed Salah       Liverpool FC     22       37\n",
       "51         Bruno Fernandes  Manchester United     18       37\n",
       "161          Son Heung-min  Tottenham Hotspur     17       37\n",
       "214        Patrick Bamford       Leeds United     17       38\n",
       "237  Dominic Calvert-Lewin            Everton     16       33\n",
       "110            Jamie Vardy     Leicester City     15       34\n",
       "267          Ollie Watkins        Aston Villa     14       37\n",
       "33          İlkay Gündoğan    Manchester City     13       28\n",
       "191    Alexandre Lacazette            Arsenal     13       31"
      ]
     },
     "execution_count": 47,
     "metadata": {},
     "output_type": "execute_result"
    }
   ],
   "source": [
    "dataF[['Name', 'Club', 'Goals', 'Matches']].nlargest(n = 10, columns='Goals')"
   ]
  },
  {
   "cell_type": "code",
   "execution_count": 45,
   "metadata": {
    "tags": []
   },
   "outputs": [
    {
     "data": {
      "image/png": "[encoded data removed]",
      "text/plain": [
       "<Figure size 864x432 with 1 Axes>"
      ]
     },
     "metadata": {},
     "output_type": "display_data"
    }
   ],
   "source": [
    "plt.figure(figsize=(12,6))\n",
    "assists = dataF['Assists'].sum()\n",
    "data = [dataF['Goals'].sum() - assists, assists]\n",
    "nom = ['Gol sin asistencia','Gol con asistencia']\n",
    "colores = sns.color_palette('BuGn_r')\n",
    "plt.pie(data, labels = nom, colors = colores, autopct = '%.0f%%')\n",
    "plt.show()"
   ]
  },
  {
   "cell_type": "code",
   "execution_count": 44,
   "metadata": {
    "tags": []
   },
   "outputs": [
    {
     "data": {
      "image/png": "[encoded data removed]",
      "text/plain": [
       "<Figure size 1440x432 with 1 Axes>"
      ]
     },
     "metadata": {},
     "output_type": "display_data"
    }
   ],
   "source": [
    "am = dataF.sort_values(by='Yellow_Cards',ascending=False)[:10]\n",
    "plt.figure(figsize = (20, 6))\n",
    "plt.title('Jugadores con tarjetas amarillas', fontsize=16)\n",
    "c = sns.barplot(x = am['Name'], y = am['Yellow_Cards'],label='Players', color='yellow')\n",
    "plt.ylabel('Cantidad de tarjetas')\n",
    "c.set_xticklabels(c.get_xticklabels(), rotation = 45)\n",
    "plt.show()      "
   ]
  },
  {
   "cell_type": "markdown",
   "metadata": {},
   "source": [
    "![linea 2](https://user-images.githubusercontent.com/19308295/115926262-2fb62980-a448-11eb-8189-c2f10e499944.png)"
   ]
  },
  {
   "cell_type": "markdown",
   "metadata": {},
   "source": [
    "## <font color=#33A5FF>****BIBLIOGRAFÍA****<tfont>"
   ]
  },
  {
   "cell_type": "markdown",
   "metadata": {},
   "source": [
    "[1] Guía de pandas oficial https://pandas.pydata.org/docs/user_guide/index.html\n",
    "\n",
    "[2] Python Pandas Tutorial: A Complete Introduction for Beginners https://bit.ly/2AQMQld\n",
    "\n",
    "[3] Guía para pandas https://pybonacci.org/2014/05/30/pandas-i/\n",
    "\n",
    "[4] Dataset variados https://www.kaggle.com/datasets\n",
    "\n",
    "[5] SimpliLearn https://www.youtube.com/c/SimplilearnOfficial"
   ]
  },
  {
   "cell_type": "markdown",
   "metadata": {},
   "source": [
    "![linea 1](https://user-images.githubusercontent.com/19308295/115926252-2b8a0c00-a448-11eb-9d9c-b43beaf0ff68.png)"
   ]
  }
 ],
 "metadata": {
  "kernelspec": {
   "display_name": "Python 3.9.5 64-bit",
   "language": "python",
   "name": "python3"
  },
  "language_info": {
   "codemirror_mode": {
    "name": "ipython",
    "version": 3
   },
   "file_extension": ".py",
   "mimetype": "text/x-python",
   "name": "python",
   "nbconvert_exporter": "python",
   "pygments_lexer": "ipython3",
   "version": "3.9.5"
  },
  "vscode": {
   "interpreter": {
    "hash": "e5e0aa5e58bcc6da437441bb5fb3ab9cb26be6f221d6d92df7e336b5b2972c3b"
   }
  }
 },
 "nbformat": 4,
 "nbformat_minor": 4
}
